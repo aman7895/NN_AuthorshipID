{
 "cells": [
  {
   "cell_type": "code",
   "execution_count": 1,
   "metadata": {},
   "outputs": [
    {
     "name": "stderr",
     "output_type": "stream",
     "text": [
      "Using Theano backend.\n"
     ]
    }
   ],
   "source": [
    "from __future__ import print_function\n",
    "from __future__ import division\n",
    "import json\n",
    "import py_crepe\n",
    "import datetime\n",
    "import numpy as np\n",
    "import data_helpers\n",
    "import data\n",
    "import string\n",
    "import matplotlib.pyplot as plt\n",
    "import pandas as pd\n",
    "np.random.seed(0123)  # for reproducibility\n"
   ]
  },
  {
   "cell_type": "code",
   "execution_count": 2,
   "metadata": {
    "collapsed": true
   },
   "outputs": [],
   "source": [
    "# set parameters:\n",
    "\n",
    "subset = None\n",
    "\n",
    "#Whether to save model parameters\n",
    "save = False\n",
    "model_name_path = 'params/crepe_model.json'\n",
    "model_weights_path = 'params/crepe_model_weights.h5'\n",
    "\n",
    "#Maximum length. Longer gets chopped. Shorter gets padded.\n",
    "maxlen = 1014\n",
    "\n",
    "#Model params\n",
    "#Filters for conv layers\n",
    "nb_filter = 256\n",
    "#Number of units in the dense layer\n",
    "dense_outputs = 50\n",
    "\n",
    "#Conv layer kernel size\n",
    "filter_kernels = [7, 7, 3, 3, 3, 3]\n",
    "#Number of units in the final output layer. Number of classes.\n",
    "\n",
    "#Compile/fit params\n",
    "batch_size = 90\n",
    "nb_epoch = 15"
   ]
  },
  {
   "cell_type": "code",
   "execution_count": 3,
   "metadata": {},
   "outputs": [
    {
     "name": "stdout",
     "output_type": "stream",
     "text": [
      "Loading data...\n",
      "(391572, 12)\n",
      "Min: 390\n",
      "Max: 3108\n",
      "(391480, 12)\n",
      "Build model...\n"
     ]
    }
   ],
   "source": [
    "print('Loading data...')\n",
    "#Expect x to be a list of sentences. Y to be a one-hot encoding of the\n",
    "#categories.\n",
    "\n",
    "authorlist=[114, 1680, 4264, 1228, 8117]\n",
    "doc_id = 2032\n",
    "cat_output = len(authorlist) #binary in the last layer\n",
    "\n",
    "# def main(authorlist, doc_id):\n",
    "    \n",
    "    \n",
    "((trainX, trainY), (valX, valY), authorlist) = data_helpers.load_ag_data(authors = authorlist, docID = doc_id)\n",
    "\n",
    "\n",
    "#trainX = data_helpers.encode_data(trainX, maxlen, vocab, vocab_size, check)\n",
    "#test_data = data_helpers.encode_data(valX, maxlen, vocab, vocab_size, check)\n",
    "\n",
    "print('Build model...')\n",
    "\n",
    "classes = len(authorlist)\n",
    "\n",
    "model = py_crepe.model(dense_outputs, classes)"
   ]
  },
  {
   "cell_type": "code",
   "execution_count": 4,
   "metadata": {
    "scrolled": true
   },
   "outputs": [
    {
     "name": "stderr",
     "output_type": "stream",
     "text": [
      "/home/aman/anaconda2/lib/python2.7/site-packages/keras/models.py:834: UserWarning: The `nb_epoch` argument in `fit` has been renamed `epochs`.\n",
      "  warnings.warn('The `nb_epoch` argument in `fit` '\n"
     ]
    },
    {
     "name": "stdout",
     "output_type": "stream",
     "text": [
      "Train on 4111 samples, validate on 1762 samples\n",
      "Epoch 1/30\n",
      "2760/4111 [===================>..........] - ETA: 0s - loss: 8.8281 - acc: 0.4261Epoch 00000: val_acc improved from -inf to 0.53348, saving model to author-cnn-ngrams-word.hdf5\n",
      "4111/4111 [==============================] - 0s - loss: 8.7568 - acc: 0.4342 - val_loss: 7.5193 - val_acc: 0.5335\n",
      "Epoch 2/30\n",
      "2930/4111 [====================>.........] - ETA: 0s - loss: 8.5826 - acc: 0.4543Epoch 00001: val_acc did not improve\n",
      "4111/4111 [==============================] - 0s - loss: 8.4543 - acc: 0.4631 - val_loss: 7.5193 - val_acc: 0.5335\n",
      "Epoch 3/30\n",
      "2960/4111 [====================>.........] - ETA: 0s - loss: 8.5456 - acc: 0.4557Epoch 00002: val_acc did not improve\n",
      "4111/4111 [==============================] - 0s - loss: 8.5646 - acc: 0.4534 - val_loss: 7.5193 - val_acc: 0.5335\n",
      "Epoch 4/30\n",
      "2970/4111 [====================>.........] - ETA: 0s - loss: 8.4519 - acc: 0.4609Epoch 00003: val_acc did not improve\n",
      "4111/4111 [==============================] - 0s - loss: 8.4672 - acc: 0.4593 - val_loss: 7.5193 - val_acc: 0.5335\n",
      "Epoch 5/30\n",
      "2950/4111 [====================>.........] - ETA: 0s - loss: 8.7277 - acc: 0.4441Epoch 00004: val_acc did not improve\n",
      "4111/4111 [==============================] - 0s - loss: 8.6143 - acc: 0.4510 - val_loss: 7.5193 - val_acc: 0.5335\n",
      "Epoch 6/30\n",
      "2930/4111 [====================>.........] - ETA: 0s - loss: 8.3482 - acc: 0.4601Epoch 00005: val_acc did not improve\n",
      "4111/4111 [==============================] - 0s - loss: 8.4194 - acc: 0.4576 - val_loss: 7.5193 - val_acc: 0.5335\n",
      "Epoch 7/30\n",
      "2970/4111 [====================>.........] - ETA: 0s - loss: 8.4936 - acc: 0.4579Epoch 00006: val_acc did not improve\n",
      "4111/4111 [==============================] - 0s - loss: 8.5220 - acc: 0.4563 - val_loss: 7.5193 - val_acc: 0.5335\n",
      "Epoch 8/30\n",
      "2980/4111 [====================>.........] - ETA: 0s - loss: 8.4191 - acc: 0.4638Epoch 00007: val_acc did not improve\n",
      "4111/4111 [==============================] - 0s - loss: 8.5254 - acc: 0.4576 - val_loss: 7.5193 - val_acc: 0.5335\n",
      "Epoch 9/30\n",
      "2980/4111 [====================>.........] - ETA: 0s - loss: 8.3612 - acc: 0.4638Epoch 00008: val_acc did not improve\n",
      "4111/4111 [==============================] - 0s - loss: 8.4612 - acc: 0.4576 - val_loss: 7.5193 - val_acc: 0.5335\n",
      "Epoch 10/30\n",
      "2990/4111 [====================>.........] - ETA: 0s - loss: 8.5613 - acc: 0.4525Epoch 00009: val_acc did not improve\n",
      "4111/4111 [==============================] - 0s - loss: 8.5047 - acc: 0.4561 - val_loss: 7.5193 - val_acc: 0.5335\n",
      "Epoch 11/30\n",
      "2980/4111 [====================>.........] - ETA: 0s - loss: 8.3432 - acc: 0.4678Epoch 00010: val_acc did not improve\n",
      "4111/4111 [==============================] - 0s - loss: 8.4185 - acc: 0.4624 - val_loss: 7.5193 - val_acc: 0.5335\n",
      "Epoch 12/30\n",
      "2980/4111 [====================>.........] - ETA: 0s - loss: 8.5811 - acc: 0.4503Epoch 00011: val_acc did not improve\n",
      "4111/4111 [==============================] - 0s - loss: 8.5489 - acc: 0.4534 - val_loss: 7.5193 - val_acc: 0.5335\n",
      "Epoch 13/30\n",
      "2980/4111 [====================>.........] - ETA: 0s - loss: 9.0320 - acc: 0.4305Epoch 00012: val_acc did not improve\n",
      "4111/4111 [==============================] - 0s - loss: 8.9372 - acc: 0.4374 - val_loss: 7.5193 - val_acc: 0.5335\n",
      "Epoch 14/30\n",
      "2940/4111 [====================>.........] - ETA: 0s - loss: 9.1572 - acc: 0.4255Epoch 00013: val_acc did not improve\n",
      "4111/4111 [==============================] - 0s - loss: 9.1399 - acc: 0.4264 - val_loss: 7.5193 - val_acc: 0.5335\n",
      "Epoch 15/30\n",
      "2970/4111 [====================>.........] - ETA: 0s - loss: 8.5202 - acc: 0.4636Epoch 00014: val_acc did not improve\n",
      "4111/4111 [==============================] - 0s - loss: 8.4123 - acc: 0.4709 - val_loss: 7.5193 - val_acc: 0.5335\n",
      "Epoch 16/30\n",
      "2980/4111 [====================>.........] - ETA: 0s - loss: 8.2452 - acc: 0.4819Epoch 00015: val_acc did not improve\n",
      "4111/4111 [==============================] - 0s - loss: 8.3489 - acc: 0.4748 - val_loss: 7.5193 - val_acc: 0.5335\n",
      "Epoch 17/30\n",
      "2970/4111 [====================>.........] - ETA: 0s - loss: 8.6384 - acc: 0.4562Epoch 00016: val_acc did not improve\n",
      "4111/4111 [==============================] - 0s - loss: 8.3760 - acc: 0.4714 - val_loss: 7.5193 - val_acc: 0.5335\n",
      "Epoch 18/30\n",
      "2970/4111 [====================>.........] - ETA: 0s - loss: 8.3772 - acc: 0.4704Epoch 00017: val_acc did not improve\n",
      "4111/4111 [==============================] - 0s - loss: 8.2970 - acc: 0.4748 - val_loss: 7.5193 - val_acc: 0.5335\n",
      "Epoch 19/30\n",
      "2980/4111 [====================>.........] - ETA: 0s - loss: 8.1906 - acc: 0.4856Epoch 00018: val_acc did not improve\n",
      "4111/4111 [==============================] - 0s - loss: 8.2059 - acc: 0.4846 - val_loss: 7.5193 - val_acc: 0.5335\n",
      "Epoch 20/30\n",
      "2990/4111 [====================>.........] - ETA: 0s - loss: 8.2242 - acc: 0.4786Epoch 00019: val_acc did not improve\n",
      "4111/4111 [==============================] - 0s - loss: 8.1218 - acc: 0.4858 - val_loss: 7.5193 - val_acc: 0.5335\n",
      "Epoch 21/30\n",
      "2980/4111 [====================>.........] - ETA: 0s - loss: 8.3317 - acc: 0.4742Epoch 00020: val_acc did not improve\n",
      "4111/4111 [==============================] - 0s - loss: 8.3071 - acc: 0.4751 - val_loss: 7.5193 - val_acc: 0.5335\n",
      "Epoch 22/30\n",
      "3000/4111 [====================>.........] - ETA: 0s - loss: 8.3604 - acc: 0.4733Epoch 00021: val_acc did not improve\n",
      "4111/4111 [==============================] - 0s - loss: 8.3066 - acc: 0.4773 - val_loss: 7.5193 - val_acc: 0.5335\n",
      "Epoch 23/30\n",
      "2980/4111 [====================>.........] - ETA: 0s - loss: 8.2114 - acc: 0.4822Epoch 00022: val_acc did not improve\n",
      "4111/4111 [==============================] - 0s - loss: 8.2338 - acc: 0.4809 - val_loss: 7.5193 - val_acc: 0.5335\n",
      "Epoch 24/30\n",
      "2990/4111 [====================>.........] - ETA: 0s - loss: 8.2799 - acc: 0.4789Epoch 00023: val_acc did not improve\n",
      "4111/4111 [==============================] - 0s - loss: 8.3531 - acc: 0.4746 - val_loss: 7.5193 - val_acc: 0.5335\n",
      "Epoch 25/30\n",
      "2980/4111 [====================>.........] - ETA: 0s - loss: 8.4038 - acc: 0.4715Epoch 00024: val_acc did not improve\n",
      "4111/4111 [==============================] - 0s - loss: 8.3404 - acc: 0.4760 - val_loss: 7.5193 - val_acc: 0.5335\n",
      "Epoch 26/30\n",
      "2970/4111 [====================>.........] - ETA: 0s - loss: 8.4383 - acc: 0.4690Epoch 00025: val_acc did not improve\n",
      "4111/4111 [==============================] - 0s - loss: 8.2563 - acc: 0.4787 - val_loss: 7.5193 - val_acc: 0.5335\n",
      "Epoch 27/30\n",
      "2990/4111 [====================>.........] - ETA: 0s - loss: 8.2161 - acc: 0.4806Epoch 00026: val_acc did not improve\n",
      "4111/4111 [==============================] - 0s - loss: 8.2681 - acc: 0.4780 - val_loss: 7.5193 - val_acc: 0.5335\n",
      "Epoch 28/30\n",
      "3010/4111 [====================>.........] - ETA: 0s - loss: 8.2032 - acc: 0.4807Epoch 00027: val_acc did not improve\n",
      "4111/4111 [==============================] - 0s - loss: 8.2345 - acc: 0.4790 - val_loss: 7.5193 - val_acc: 0.5335\n",
      "Epoch 29/30\n",
      "3790/4111 [==========================>...] - ETA: 0s - loss: 8.2782 - acc: 0.4773Epoch 00028: val_acc did not improve\n",
      "4111/4111 [==============================] - 0s - loss: 8.3467 - acc: 0.4736 - val_loss: 7.5193 - val_acc: 0.5335\n",
      "Epoch 30/30\n",
      "3920/4111 [===========================>..] - ETA: 0s - loss: 8.2714 - acc: 0.4750Epoch 00029: val_acc did not improve\n",
      "4111/4111 [==============================] - 0s - loss: 8.2173 - acc: 0.4787 - val_loss: 7.5193 - val_acc: 0.5335\n"
     ]
    }
   ],
   "source": [
    "\n",
    "filepath=\"author-cnn-ngrams-word.hdf5\"\n",
    "\n",
    "\n",
    "from keras.callbacks import ModelCheckpoint\n",
    "checkpoint = ModelCheckpoint(filepath, monitor='val_acc', verbose=1, save_best_only=True, mode='max')\n",
    "\n",
    "callbacks_list = [checkpoint]\n",
    "\n",
    "# Function to take input of data and return fitted model\n",
    "history = model.fit(trainX, trainY, validation_data=(valX, valY), nb_epoch=30, batch_size=10, \n",
    "                    callbacks=callbacks_list)"
   ]
  },
  {
   "cell_type": "code",
   "execution_count": 5,
   "metadata": {},
   "outputs": [
    {
     "name": "stdout",
     "output_type": "stream",
     "text": [
      "  32/4111 [..............................] - ETA: 0s\n",
      "\n",
      "Final Train Accuracy: 52.74\n",
      "  32/1762 [..............................] - ETA: 0s\n",
      "Final Test Accuracy: 53.35\n"
     ]
    }
   ],
   "source": [
    "# load weights from the best checkpoint\n",
    "model.load_weights(filepath)\n",
    "\n",
    "from keras.optimizers import SGD\n",
    "sgd = SGD(lr=0.01, momentum=0.9)\n",
    "\n",
    "# Compile model again (required to make predictions)\n",
    "model.compile(loss='categorical_crossentropy', optimizer=sgd,\n",
    "              metrics=['accuracy'])\n",
    "\n",
    "train_acc = (model.evaluate(trainX, trainY))[1]\n",
    "print(\"\\n\\nFinal Train Accuracy: %.2f\" % (train_acc * 100))\n",
    "\n",
    "val_acc = (model.evaluate(valX, valY))[1]\n",
    "print(\"\\nFinal Test Accuracy: %.2f\" % (val_acc * 100))"
   ]
  },
  {
   "cell_type": "code",
   "execution_count": 6,
   "metadata": {},
   "outputs": [
    {
     "name": "stdout",
     "output_type": "stream",
     "text": [
      "['acc', 'loss', 'val_acc', 'val_loss']\n"
     ]
    },
    {
     "data": {
      "image/png": "[encoded data removed]",
      "text/plain": [
       "<matplotlib.figure.Figure at 0x7f9e6f8f6f90>"
      ]
     },
     "metadata": {},
     "output_type": "display_data"
    },
    {
     "data": {
      "image/png": "[encoded data removed]",
      "text/plain": [
       "<matplotlib.figure.Figure at 0x7f9e6f78b050>"
      ]
     },
     "metadata": {},
     "output_type": "display_data"
    }
   ],
   "source": [
    "# list all data in history\n",
    "print(history.history.keys())\n",
    "# summarize history for accuracy\n",
    "plt.plot(history.history['acc'])\n",
    "plt.plot(history.history['val_acc'])\n",
    "plt.title('model accuracy')\n",
    "plt.ylabel('accuracy')\n",
    "plt.xlabel('epoch')\n",
    "plt.legend(['train', 'test'], loc='upper left')\n",
    "plt.show()\n",
    "# summarize history for loss\n",
    "plt.plot(history.history['loss'])\n",
    "plt.plot(history.history['val_loss'])\n",
    "plt.title('model loss')\n",
    "plt.ylabel('loss')\n",
    "plt.xlabel('epoch')\n",
    "plt.legend(['train', 'test'], loc='upper left')\n",
    "plt.show()"
   ]
  },
  {
   "cell_type": "code",
   "execution_count": null,
   "metadata": {
    "collapsed": true
   },
   "outputs": [],
   "source": []
  },
  {
   "cell_type": "code",
   "execution_count": null,
   "metadata": {
    "collapsed": true
   },
   "outputs": [],
   "source": []
  }
 ],
 "metadata": {
  "kernelspec": {
   "display_name": "Python [conda root]",
   "language": "python",
   "name": "conda-root-py"
  },
  "language_info": {
   "codemirror_mode": {
    "name": "ipython",
    "version": 2
   },
   "file_extension": ".py",
   "mimetype": "text/x-python",
   "name": "python",
   "nbconvert_exporter": "python",
   "pygments_lexer": "ipython2",
   "version": "2.7.13"
  }
 },
 "nbformat": 4,
 "nbformat_minor": 2
}
